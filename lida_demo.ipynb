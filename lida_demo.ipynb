{
 "cells": [
  {
   "cell_type": "markdown",
   "metadata": {},
   "source": [
    "# Microsoft LIDA - AI Fueled Analytics Demo"
   ]
  },
  {
   "cell_type": "markdown",
   "metadata": {},
   "source": [
    "### We are going to take a weather dataset from 2019-2020 and perform some exploratory data analysis with the help of LIDA. "
   ]
  },
  {
   "cell_type": "code",
   "execution_count": 1,
   "metadata": {},
   "outputs": [
    {
     "data": {
      "text/html": [
       "<div>\n",
       "<style scoped>\n",
       "    .dataframe tbody tr th:only-of-type {\n",
       "        vertical-align: middle;\n",
       "    }\n",
       "\n",
       "    .dataframe tbody tr th {\n",
       "        vertical-align: top;\n",
       "    }\n",
       "\n",
       "    .dataframe thead th {\n",
       "        text-align: right;\n",
       "    }\n",
       "</style>\n",
       "<table border=\"1\" class=\"dataframe\">\n",
       "  <thead>\n",
       "    <tr style=\"text-align: right;\">\n",
       "      <th></th>\n",
       "      <th>Date</th>\n",
       "      <th>Country</th>\n",
       "      <th>City</th>\n",
       "      <th>Specie</th>\n",
       "      <th>Count</th>\n",
       "      <th>Min</th>\n",
       "      <th>Max</th>\n",
       "      <th>Median</th>\n",
       "      <th>Variance</th>\n",
       "    </tr>\n",
       "  </thead>\n",
       "  <tbody>\n",
       "    <tr>\n",
       "      <th>0</th>\n",
       "      <td>2019-01-16</td>\n",
       "      <td>AE</td>\n",
       "      <td>Abu Dhabi</td>\n",
       "      <td>pm10</td>\n",
       "      <td>24</td>\n",
       "      <td>86.0</td>\n",
       "      <td>99.0</td>\n",
       "      <td>97.0</td>\n",
       "      <td>179.40</td>\n",
       "    </tr>\n",
       "    <tr>\n",
       "      <th>1</th>\n",
       "      <td>2019-01-22</td>\n",
       "      <td>AE</td>\n",
       "      <td>Abu Dhabi</td>\n",
       "      <td>pm10</td>\n",
       "      <td>24</td>\n",
       "      <td>51.0</td>\n",
       "      <td>57.0</td>\n",
       "      <td>55.0</td>\n",
       "      <td>23.75</td>\n",
       "    </tr>\n",
       "    <tr>\n",
       "      <th>2</th>\n",
       "      <td>2019-01-26</td>\n",
       "      <td>AE</td>\n",
       "      <td>Abu Dhabi</td>\n",
       "      <td>pm10</td>\n",
       "      <td>24</td>\n",
       "      <td>136.0</td>\n",
       "      <td>173.0</td>\n",
       "      <td>160.0</td>\n",
       "      <td>941.96</td>\n",
       "    </tr>\n",
       "    <tr>\n",
       "      <th>3</th>\n",
       "      <td>2019-01-07</td>\n",
       "      <td>AE</td>\n",
       "      <td>Abu Dhabi</td>\n",
       "      <td>pm10</td>\n",
       "      <td>24</td>\n",
       "      <td>60.0</td>\n",
       "      <td>91.0</td>\n",
       "      <td>72.0</td>\n",
       "      <td>1006.88</td>\n",
       "    </tr>\n",
       "    <tr>\n",
       "      <th>4</th>\n",
       "      <td>2019-01-10</td>\n",
       "      <td>AE</td>\n",
       "      <td>Abu Dhabi</td>\n",
       "      <td>pm10</td>\n",
       "      <td>24</td>\n",
       "      <td>82.0</td>\n",
       "      <td>93.0</td>\n",
       "      <td>87.0</td>\n",
       "      <td>57.97</td>\n",
       "    </tr>\n",
       "  </tbody>\n",
       "</table>\n",
       "</div>"
      ],
      "text/plain": [
       "         Date Country       City Specie  Count    Min    Max  Median  Variance\n",
       "0  2019-01-16      AE  Abu Dhabi   pm10     24   86.0   99.0    97.0    179.40\n",
       "1  2019-01-22      AE  Abu Dhabi   pm10     24   51.0   57.0    55.0     23.75\n",
       "2  2019-01-26      AE  Abu Dhabi   pm10     24  136.0  173.0   160.0    941.96\n",
       "3  2019-01-07      AE  Abu Dhabi   pm10     24   60.0   91.0    72.0   1006.88\n",
       "4  2019-01-10      AE  Abu Dhabi   pm10     24   82.0   93.0    87.0     57.97"
      ]
     },
     "execution_count": 1,
     "metadata": {},
     "output_type": "execute_result"
    }
   ],
   "source": [
    "# read the dataset\n",
    "import pandas as pd\n",
    "\n",
    "df = pd.read_csv('final_dataset.csv')\n",
    "df.head()"
   ]
  },
  {
   "cell_type": "code",
   "execution_count": 31,
   "metadata": {},
   "outputs": [
    {
     "data": {
      "text/html": [
       "<div>\n",
       "<style scoped>\n",
       "    .dataframe tbody tr th:only-of-type {\n",
       "        vertical-align: middle;\n",
       "    }\n",
       "\n",
       "    .dataframe tbody tr th {\n",
       "        vertical-align: top;\n",
       "    }\n",
       "\n",
       "    .dataframe thead th {\n",
       "        text-align: right;\n",
       "    }\n",
       "</style>\n",
       "<table border=\"1\" class=\"dataframe\">\n",
       "  <thead>\n",
       "    <tr style=\"text-align: right;\">\n",
       "      <th></th>\n",
       "      <th>Date</th>\n",
       "      <th>Country</th>\n",
       "      <th>City</th>\n",
       "      <th>Specie</th>\n",
       "      <th>Count</th>\n",
       "      <th>Min</th>\n",
       "      <th>Max</th>\n",
       "      <th>Median</th>\n",
       "      <th>Variance</th>\n",
       "    </tr>\n",
       "  </thead>\n",
       "  <tbody>\n",
       "    <tr>\n",
       "      <th>58264</th>\n",
       "      <td>2019-01-04</td>\n",
       "      <td>IN</td>\n",
       "      <td>Delhi</td>\n",
       "      <td>pm25</td>\n",
       "      <td>688</td>\n",
       "      <td>77.0</td>\n",
       "      <td>720.0</td>\n",
       "      <td>289.0</td>\n",
       "      <td>81576.30</td>\n",
       "    </tr>\n",
       "    <tr>\n",
       "      <th>58265</th>\n",
       "      <td>2019-02-16</td>\n",
       "      <td>IN</td>\n",
       "      <td>Delhi</td>\n",
       "      <td>pm25</td>\n",
       "      <td>719</td>\n",
       "      <td>91.0</td>\n",
       "      <td>318.0</td>\n",
       "      <td>182.0</td>\n",
       "      <td>2475.03</td>\n",
       "    </tr>\n",
       "    <tr>\n",
       "      <th>58266</th>\n",
       "      <td>2019-03-12</td>\n",
       "      <td>IN</td>\n",
       "      <td>Delhi</td>\n",
       "      <td>pm25</td>\n",
       "      <td>701</td>\n",
       "      <td>9.0</td>\n",
       "      <td>207.0</td>\n",
       "      <td>149.0</td>\n",
       "      <td>11851.10</td>\n",
       "    </tr>\n",
       "    <tr>\n",
       "      <th>58267</th>\n",
       "      <td>2019-01-14</td>\n",
       "      <td>IN</td>\n",
       "      <td>Delhi</td>\n",
       "      <td>pm25</td>\n",
       "      <td>660</td>\n",
       "      <td>59.0</td>\n",
       "      <td>999.0</td>\n",
       "      <td>169.0</td>\n",
       "      <td>70650.10</td>\n",
       "    </tr>\n",
       "    <tr>\n",
       "      <th>58268</th>\n",
       "      <td>2019-02-13</td>\n",
       "      <td>IN</td>\n",
       "      <td>Delhi</td>\n",
       "      <td>pm25</td>\n",
       "      <td>724</td>\n",
       "      <td>127.0</td>\n",
       "      <td>474.0</td>\n",
       "      <td>246.0</td>\n",
       "      <td>33809.90</td>\n",
       "    </tr>\n",
       "    <tr>\n",
       "      <th>58269</th>\n",
       "      <td>2019-03-16</td>\n",
       "      <td>IN</td>\n",
       "      <td>Delhi</td>\n",
       "      <td>pm25</td>\n",
       "      <td>682</td>\n",
       "      <td>31.0</td>\n",
       "      <td>249.0</td>\n",
       "      <td>154.0</td>\n",
       "      <td>7823.81</td>\n",
       "    </tr>\n",
       "    <tr>\n",
       "      <th>58270</th>\n",
       "      <td>2019-03-05</td>\n",
       "      <td>IN</td>\n",
       "      <td>Delhi</td>\n",
       "      <td>pm25</td>\n",
       "      <td>594</td>\n",
       "      <td>64.0</td>\n",
       "      <td>228.0</td>\n",
       "      <td>154.0</td>\n",
       "      <td>9161.48</td>\n",
       "    </tr>\n",
       "    <tr>\n",
       "      <th>58271</th>\n",
       "      <td>2019-03-21</td>\n",
       "      <td>IN</td>\n",
       "      <td>Delhi</td>\n",
       "      <td>pm25</td>\n",
       "      <td>620</td>\n",
       "      <td>61.0</td>\n",
       "      <td>470.0</td>\n",
       "      <td>177.0</td>\n",
       "      <td>47437.90</td>\n",
       "    </tr>\n",
       "    <tr>\n",
       "      <th>58272</th>\n",
       "      <td>2019-03-23</td>\n",
       "      <td>IN</td>\n",
       "      <td>Delhi</td>\n",
       "      <td>pm25</td>\n",
       "      <td>665</td>\n",
       "      <td>1.0</td>\n",
       "      <td>319.0</td>\n",
       "      <td>135.0</td>\n",
       "      <td>15761.70</td>\n",
       "    </tr>\n",
       "    <tr>\n",
       "      <th>58273</th>\n",
       "      <td>2019-01-08</td>\n",
       "      <td>IN</td>\n",
       "      <td>Delhi</td>\n",
       "      <td>pm25</td>\n",
       "      <td>686</td>\n",
       "      <td>119.0</td>\n",
       "      <td>450.0</td>\n",
       "      <td>203.0</td>\n",
       "      <td>25022.80</td>\n",
       "    </tr>\n",
       "  </tbody>\n",
       "</table>\n",
       "</div>"
      ],
      "text/plain": [
       "             Date Country   City Specie  Count    Min    Max  Median  Variance\n",
       "58264  2019-01-04      IN  Delhi   pm25    688   77.0  720.0   289.0  81576.30\n",
       "58265  2019-02-16      IN  Delhi   pm25    719   91.0  318.0   182.0   2475.03\n",
       "58266  2019-03-12      IN  Delhi   pm25    701    9.0  207.0   149.0  11851.10\n",
       "58267  2019-01-14      IN  Delhi   pm25    660   59.0  999.0   169.0  70650.10\n",
       "58268  2019-02-13      IN  Delhi   pm25    724  127.0  474.0   246.0  33809.90\n",
       "58269  2019-03-16      IN  Delhi   pm25    682   31.0  249.0   154.0   7823.81\n",
       "58270  2019-03-05      IN  Delhi   pm25    594   64.0  228.0   154.0   9161.48\n",
       "58271  2019-03-21      IN  Delhi   pm25    620   61.0  470.0   177.0  47437.90\n",
       "58272  2019-03-23      IN  Delhi   pm25    665    1.0  319.0   135.0  15761.70\n",
       "58273  2019-01-08      IN  Delhi   pm25    686  119.0  450.0   203.0  25022.80"
      ]
     },
     "execution_count": 31,
     "metadata": {},
     "output_type": "execute_result"
    }
   ],
   "source": [
    "df_delhi = df.loc[(df['Specie'] == 'pm25')&(df['City']=='Delhi')]\n",
    "df_delhi.head(10)"
   ]
  },
  {
   "cell_type": "code",
   "execution_count": 19,
   "metadata": {},
   "outputs": [],
   "source": [
    "import os\n",
    "from lida import Manager, TextGenerationConfig , llm  \n",
    "\n",
    "OPENAI_API_KEY = os.getenv('OPENAI_API_KEY')"
   ]
  },
  {
   "cell_type": "code",
   "execution_count": 20,
   "metadata": {},
   "outputs": [],
   "source": [
    "lida = Manager(text_gen = llm(\"openai\", api_key=OPENAI_API_KEY)) \n",
    "\n",
    "textgen_config = TextGenerationConfig(n=1, temperature=0.5, model=\"gpt-3.5-turbo\", use_cache=True)"
   ]
  },
  {
   "cell_type": "code",
   "execution_count": 32,
   "metadata": {},
   "outputs": [],
   "source": [
    "summary = lida.summarize(df_delhi, summary_method=\"default\", textgen_config=textgen_config)  "
   ]
  },
  {
   "cell_type": "code",
   "execution_count": 33,
   "metadata": {},
   "outputs": [
    {
     "data": {
      "text/markdown": [
       "\n",
       "### Goal 0\n",
       "---\n",
       "**Question:** What is the distribution of Count values in the dataset?\n",
       "\n",
       "**Visualization:** `Bar chart of Count`\n",
       "\n",
       "**Rationale:** By visualizing the distribution of Count values, we can understand the range and frequency of pollution levels recorded in the dataset, providing insights into the severity of air quality in the city.\n"
      ],
      "text/plain": [
       "Goal(question='What is the distribution of Count values in the dataset?', visualization='Bar chart of Count', rationale='By visualizing the distribution of Count values, we can understand the range and frequency of pollution levels recorded in the dataset, providing insights into the severity of air quality in the city.', index=0)"
      ]
     },
     "metadata": {},
     "output_type": "display_data"
    },
    {
     "data": {
      "text/markdown": [
       "\n",
       "### Goal 1\n",
       "---\n",
       "**Question:** How do the Min, Max, and Median values compare for the pollution Specie 'pm25'?\n",
       "\n",
       "**Visualization:** `Bar chart of Min, Max, and Median for Specie 'pm25'`\n",
       "\n",
       "**Rationale:** Comparing the Min, Max, and Median values for the 'pm25' pollution Specie can help identify the typical range of pollution levels, the highest recorded levels, and the central tendency of pollution measurements for this specific pollutant.\n"
      ],
      "text/plain": [
       "Goal(question=\"How do the Min, Max, and Median values compare for the pollution Specie 'pm25'?\", visualization=\"Bar chart of Min, Max, and Median for Specie 'pm25'\", rationale=\"Comparing the Min, Max, and Median values for the 'pm25' pollution Specie can help identify the typical range of pollution levels, the highest recorded levels, and the central tendency of pollution measurements for this specific pollutant.\", index=1)"
      ]
     },
     "metadata": {},
     "output_type": "display_data"
    },
    {
     "data": {
      "text/markdown": [
       "\n",
       "### Goal 2\n",
       "---\n",
       "**Question:** What is the variance distribution of pollution levels recorded in the dataset?\n",
       "\n",
       "**Visualization:** `Histogram of Variance`\n",
       "\n",
       "**Rationale:** Analyzing the variance distribution of pollution levels can provide insights into the variability and spread of pollution measurements, indicating the consistency or variability in air quality recordings over time.\n"
      ],
      "text/plain": [
       "Goal(question='What is the variance distribution of pollution levels recorded in the dataset?', visualization='Histogram of Variance', rationale='Analyzing the variance distribution of pollution levels can provide insights into the variability and spread of pollution measurements, indicating the consistency or variability in air quality recordings over time.', index=2)"
      ]
     },
     "metadata": {},
     "output_type": "display_data"
    }
   ],
   "source": [
    "goals = lida.goals(summary, n=3, textgen_config=textgen_config)\n",
    "\n",
    "for goal in goals:\n",
    "    display(goal)"
   ]
  },
  {
   "cell_type": "code",
   "execution_count": 35,
   "metadata": {},
   "outputs": [
    {
     "data": {
      "image/png": "[encoded data removed]",
      "text/plain": [
       "import seaborn as sns\n",
       "import pandas as pd\n",
       "import matplotlib.pyplot as plt\n",
       "\n",
       "def plot(data: pd.DataFrame):\n",
       "    plt.figure(figsize=(12, 6))\n",
       "    sns.histplot(data=data, x='Variance', kde=True, color='skyblue', bins=30)\n",
       "    plt.axvline(data['Variance'].mean(), color='red', linestyle='dashed', linewidth=1.5, label=f'Mean: {data[\"Variance\"].mean():.2f}')\n",
       "    plt.legend()\n",
       "    plt.xlabel('Variance')\n",
       "    plt.ylabel('Frequency')\n",
       "    plt.title('What is the variance distribution of pollution levels recorded in the dataset?', wrap=True)\n",
       "    return plt\n",
       "\n",
       "chart = plot(data)"
      ]
     },
     "execution_count": 35,
     "metadata": {},
     "output_type": "execute_result"
    }
   ],
   "source": [
    "# Example of visualizing the second goal\n",
    "i = 2\n",
    "library = \"seaborn\"\n",
    "charts = lida.visualize(summary=summary, goal=goals[i], textgen_config=textgen_config, library=library)\n",
    "\n",
    "# Display the first chart\n",
    "if charts:\n",
    "    charts[0]\n",
    "\n",
    "charts[0]"
   ]
  }
 ],
 "metadata": {
  "kernelspec": {
   "display_name": "Python 3",
   "language": "python",
   "name": "python3"
  },
  "language_info": {
   "codemirror_mode": {
    "name": "ipython",
    "version": 3
   },
   "file_extension": ".py",
   "mimetype": "text/x-python",
   "name": "python",
   "nbconvert_exporter": "python",
   "pygments_lexer": "ipython3",
   "version": "3.10.14"
  }
 },
 "nbformat": 4,
 "nbformat_minor": 2
}
